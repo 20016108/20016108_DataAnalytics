{
  "nbformat": 4,
  "nbformat_minor": 0,
  "metadata": {
    "colab": {
      "name": "Assignment1.ipynb",
      "provenance": [],
      "authorship_tag": "ABX9TyPF+CuG6TjJ+ZFfjapEcPWp",
      "include_colab_link": true
    },
    "kernelspec": {
      "name": "python3",
      "display_name": "Python 3"
    }
  },
  "cells": [
    {
      "cell_type": "markdown",
      "metadata": {
        "id": "view-in-github",
        "colab_type": "text"
      },
      "source": [
        "<a href=\"https://colab.research.google.com/github/20016108/20016108_DataAnalytics/blob/main/Assignment1.ipynb\" target=\"_parent\"><img src=\"https://colab.research.google.com/assets/colab-badge.svg\" alt=\"Open In Colab\"/></a>"
      ]
    },
    {
      "cell_type": "code",
      "metadata": {
        "id": "fntABknMzyg_"
      },
      "source": [
        ""
      ],
      "execution_count": null,
      "outputs": []
    },
    {
      "cell_type": "code",
      "metadata": {
        "id": "BEF22KIKtQ8I"
      },
      "source": [
        ""
      ],
      "execution_count": null,
      "outputs": []
    },
    {
      "cell_type": "markdown",
      "metadata": {
        "id": "WsQG9Ceet5Nk"
      },
      "source": [
        " **Assignment One; Data Analytics On The Web**\n",
        "\n",
        "\n",
        "\n",
        "\n"
      ]
    },
    {
      "cell_type": "markdown",
      "metadata": {
        "id": "MxnSa3asuR5L"
      },
      "source": [
        "This report will investigate the New York City Emergency Services and will find the relationship between weather and the number of traffic collisions on a particular day. From the gatherings of this report, two regression models will be produced. A Linear Regression Model and A Deep Neural Network Regression Model. These models will help the New York City Emergency Services to optimise the amount of emergency reponse staff available on a particular day as, the model will accurately predict the numbers of collisions on a particular day of the week. "
      ]
    },
    {
      "cell_type": "code",
      "metadata": {
        "id": "wBdv2Rbqx2IL"
      },
      "source": [
        ""
      ],
      "execution_count": null,
      "outputs": []
    }
  ]
}